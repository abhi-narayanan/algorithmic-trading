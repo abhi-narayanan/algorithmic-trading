{
 "cells": [
  {
   "cell_type": "code",
   "execution_count": 4,
   "id": "5ee53ab3",
   "metadata": {},
   "outputs": [
    {
     "name": "stdout",
     "output_type": "stream",
     "text": [
      "Collecting chromedriver-autoinstaller\n",
      "  Downloading chromedriver_autoinstaller-0.6.3-py3-none-any.whl (7.6 kB)\n",
      "Collecting packaging>=23.1\n",
      "  Using cached packaging-23.2-py3-none-any.whl (53 kB)\n",
      "Installing collected packages: packaging, chromedriver-autoinstaller\n",
      "  Attempting uninstall: packaging\n",
      "    Found existing installation: packaging 23.0\n",
      "    Uninstalling packaging-23.0:\n",
      "      Successfully uninstalled packaging-23.0\n",
      "Successfully installed chromedriver-autoinstaller-0.6.3 packaging-23.2\n"
     ]
    }
   ],
   "source": [
    "!pip install chromedriver-autoinstaller"
   ]
  },
  {
   "cell_type": "code",
   "execution_count": 7,
   "id": "48aa6475",
   "metadata": {},
   "outputs": [],
   "source": [
    "# Fetch the Option Chain data for required stock/index\n",
    "import pandas as pd\n",
    "import numpy as np\n",
    "import time\n",
    "import os\n",
    "import logging\n",
    "from selenium import webdriver\n",
    "from selenium.webdriver.common.by import By\n",
    "from selenium.webdriver.support.ui import WebDriverWait\n",
    "from selenium.webdriver.support import expected_conditions as EC\n",
    "from selenium.webdriver.support.ui import Select\n",
    "from selenium.webdriver.chrome.service import Service\n",
    "from selenium.webdriver.common.action_chains import ActionChains\n",
    "from selenium.common.exceptions import NoSuchElementException\n",
    "from selenium.common.exceptions import TimeoutException\n",
    "import chromedriver_autoinstaller\n",
    "\n",
    "try:\n",
    "    chromedriver_autoinstaller.install()\n",
    "\n",
    "    options = webdriver.ChromeOptions()\n",
    "    options.add_argument('--disable-blink-features=AutomationControlled')\n",
    "    options.add_argument('--start-maximized')\n",
    "    options.add_argument('--incognito')\n",
    "    options.add_argument('--no-sandbox')\n",
    "\n",
    "    # set the network conditions to online\n",
    "    network_conditions = {\n",
    "        'offline': False,\n",
    "        'latency': 5,\n",
    "        'download_throughput': 500 * 1024,\n",
    "        'upload_throughput': 500 * 1024,\n",
    "        'connection_type': 'cellular'\n",
    "    }\n",
    "\n",
    "    # set the page load strategy to eager\n",
    "    options.add_argument('--pageLoadStrategy=eager')\n",
    "\n",
    "#         driver = webdriver.Chrome(service=Service(r\"chromeplatow.exe\"), options=options)\n",
    "#         driver = webdriver.Chrome(service=Service(r\"chromedriver.exe\"), options=options)\n",
    "    driver = webdriver.Chrome(options=options)\n",
    "\n",
    "    driver.set_network_conditions(offline=False, latency=5, throughput=500 * 1024, connection_type='cellular')\n",
    "    driver.set_page_load_timeout(20)\n",
    "    driver.get(f\"https://trendlyne.com/equity/1893/NIFTY500/nifty-500/\")\n",
    "\n",
    "    # Wait for the page to load\n",
    "    driver.implicitly_wait(10)\n",
    "    \n",
    "\n",
    "    try:\n",
    "        # Select Option Chain\n",
    "        x = WebDriverWait(driver, 10) \\\n",
    "                .until(EC.visibility_of_element_located((By.XPATH, \"//*[@id='DataTables_Table_0_length']/label/select\")))\n",
    "        x.click()\n",
    "        \n",
    "        \n",
    "        x = WebDriverWait(driver, 10) \\\n",
    "                .until(EC.visibility_of_element_located((By.XPATH, \"//*[@id='DataTables_Table_0_length']/label/select/option[5]\")))\n",
    "        x.click()\n",
    "\n",
    "        # Wait for the page to load\n",
    "        driver.implicitly_wait(5)\n",
    "\n",
    "        # Find the table element and get its HTML content\n",
    "        table = driver.find_element(By.XPATH, '//*[@id=\"DataTables_Table_0\"]')\n",
    "        html_content = table.get_attribute('outerHTML')\n",
    "\n",
    "        # Use pandas to parse the HTML content into a dataframe\n",
    "        option_chain_df = pd.read_html(html_content)\n",
    "\n",
    "    except:\n",
    "        print(f'inside')\n",
    "        # Close the webdriver\n",
    "        driver.quit()\n",
    "\n",
    "except:\n",
    "    print(f'outside')\n",
    "    # Close the webdriver\n",
    "    driver.quit()"
   ]
  },
  {
   "cell_type": "code",
   "execution_count": 50,
   "id": "65d3dc2e",
   "metadata": {},
   "outputs": [],
   "source": [
    "nifty_500 = pd.DataFrame(option_chain_df[0])"
   ]
  },
  {
   "cell_type": "code",
   "execution_count": 51,
   "id": "497a88ad",
   "metadata": {},
   "outputs": [],
   "source": [
    "nifty_500 = nifty_500[['Stock Name', 'Market Cap (Cr)']]"
   ]
  },
  {
   "cell_type": "code",
   "execution_count": 52,
   "id": "65574f8f",
   "metadata": {},
   "outputs": [],
   "source": [
    "nifty_500 = nifty_500.rename(columns={'Stock Name': 'Company Name'})"
   ]
  },
  {
   "cell_type": "code",
   "execution_count": 53,
   "id": "27b4519e",
   "metadata": {},
   "outputs": [],
   "source": [
    "nifty_500 = nifty_500.set_index('Company Name')"
   ]
  },
  {
   "cell_type": "code",
   "execution_count": 54,
   "id": "6c175200",
   "metadata": {},
   "outputs": [],
   "source": [
    "nse_data = pd.read_csv('ind_nifty500list.csv')\n",
    "# nse_data['Company Name'] = nse_data['Company Name'].str.lower()"
   ]
  },
  {
   "cell_type": "code",
   "execution_count": 55,
   "id": "29043ef2",
   "metadata": {},
   "outputs": [],
   "source": [
    "nse_data = nse_data.set_index('Company Name')"
   ]
  },
  {
   "cell_type": "code",
   "execution_count": 56,
   "id": "ce95c28b",
   "metadata": {},
   "outputs": [],
   "source": [
    "nse_data['m_cap'] = nifty_500['Market Cap (Cr)']"
   ]
  },
  {
   "cell_type": "code",
   "execution_count": 57,
   "id": "09ee8534",
   "metadata": {},
   "outputs": [
    {
     "data": {
      "text/plain": [
       "128"
      ]
     },
     "execution_count": 57,
     "metadata": {},
     "output_type": "execute_result"
    }
   ],
   "source": [
    "nse_data['m_cap'].isna().sum()"
   ]
  },
  {
   "cell_type": "code",
   "execution_count": 62,
   "id": "a463dca1",
   "metadata": {},
   "outputs": [],
   "source": [
    "nse_data.dropna().reset_index().to_csv('nifty-500-with-mcap.csv')"
   ]
  },
  {
   "cell_type": "code",
   "execution_count": null,
   "id": "68bdc507",
   "metadata": {},
   "outputs": [],
   "source": []
  }
 ],
 "metadata": {
  "kernelspec": {
   "display_name": "Python 3 (ipykernel)",
   "language": "python",
   "name": "python3"
  },
  "language_info": {
   "codemirror_mode": {
    "name": "ipython",
    "version": 3
   },
   "file_extension": ".py",
   "mimetype": "text/x-python",
   "name": "python",
   "nbconvert_exporter": "python",
   "pygments_lexer": "ipython3",
   "version": "3.10.9"
  }
 },
 "nbformat": 4,
 "nbformat_minor": 5
}
